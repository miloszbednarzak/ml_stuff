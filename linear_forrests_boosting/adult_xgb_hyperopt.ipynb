{
 "cells": [
  {
   "cell_type": "markdown",
   "metadata": {},
   "source": [
    "# Hyperparameter Optimization"
   ]
  },
  {
   "cell_type": "code",
   "execution_count": 1,
   "metadata": {
    "collapsed": true
   },
   "outputs": [],
   "source": [
    "import pandas as pd\n",
    "import numpy as np\n",
    "\n",
    "from functools import partial\n",
    "\n",
    "from sklearn.datasets import make_regression\n",
    "\n",
    "from sklearn.model_selection import train_test_split\n",
    "from sklearn.metrics import mean_squared_error\n",
    "\n",
    "import xgboost as xgb\n",
    "\n",
    "from hyperopt import hp\n",
    "from hyperopt import hp, fmin, tpe, STATUS_OK, Trials\n",
    "\n",
    "import matplotlib.pyplot as plt\n",
    "plt.rcParams['figure.figsize']=(12,4)\n",
    "import seaborn as sns\n",
    "\n",
    "\n",
    "%matplotlib inline"
   ]
  },
  {
   "cell_type": "code",
   "execution_count": 12,
   "metadata": {
    "collapsed": true
   },
   "outputs": [],
   "source": [
    "df = pd.read_hdf('../input/train.adult.h5')"
   ]
  },
  {
   "cell_type": "code",
   "execution_count": 15,
   "metadata": {
    "collapsed": true
   },
   "outputs": [
    {
     "name": "stdout",
     "output_type": "stream",
     "text": [
      "<class 'pandas.core.frame.DataFrame'>\n",
      "Int64Index: 32561 entries, 0 to 32560\n",
      "Data columns (total 15 columns):\n",
      "Age                   32561 non-null int8\n",
      "fnlwgt                32561 non-null int64\n",
      "Education-Num         32561 non-null int64\n",
      "Capital Gain          32561 non-null int16\n",
      "Capital Loss          32561 non-null int16\n",
      "Hours per week        32561 non-null int8\n",
      "Workclass_cat         32561 non-null int64\n",
      "Education_cat         32561 non-null int64\n",
      "Martial Status_cat    32561 non-null int64\n",
      "Occupation_cat        32561 non-null int64\n",
      "Relationship_cat      32561 non-null int64\n",
      "Race_cat              32561 non-null int64\n",
      "Country_cat           32561 non-null int64\n",
      "Target_cat            32561 non-null int64\n",
      "Sex_cat               32561 non-null int64\n",
      "dtypes: int16(2), int64(11), int8(2)\n",
      "memory usage: 3.2 MB\n"
     ]
    }
   ],
   "source": [
    "df = df.fillna(-1)\n",
    "cat_feats = df.select_dtypes(include=[np.object]).columns\n",
    "\n",
    "for cat_feat in cat_feats:\n",
    "    df['{0}_cat'.format(cat_feat)] = pd.factorize( df[cat_feat] )[0]\n",
    "\n",
    "df['Sex_cat'] = df['Sex'].map(lambda x: int(x=True))\n",
    "    \n",
    "train = df.select_dtypes(include=[np.int8, np.int16, np.int64])\n",
    "train.info()\n",
    "feats = train.columns.values\n",
    "feats = list(feats)\n",
    "feats.remove('Target_cat')\n",
    "feats.remove('Education_cat')\n",
    "feats = np.array(feats)\n",
    "\n",
    "X = train[feats]\n",
    "y = train['Target_cat']\n",
    "X_train, X_test, y_train, y_test = train_test_split(X, y, test_size=0.3)"
   ]
  },
  {
   "cell_type": "code",
   "execution_count": 17,
   "metadata": {},
   "outputs": [
    {
     "name": "stdout",
     "output_type": "stream",
     "text": [
      "SCORE: 0.1303101648070427\n",
      "SCORE: 0.1305148940526154\n",
      "SCORE: 0.1273415907462381\n",
      "SCORE: 0.12744395536902448\n",
      "SCORE: 0.12754631999181082\n",
      "SCORE: 0.1320503633944109\n",
      "SCORE: 0.13061725867540178\n",
      "SCORE: 0.1290817893336063\n",
      "SCORE: 0.13573548981472003\n",
      "SCORE: 0.12754631999181082\n",
      "SCORE: 0.1305148940526154\n",
      "SCORE: 0.12867233084246085\n",
      "SCORE: 0.13348346811342\n",
      "SCORE: 0.1303101648070427\n",
      "SCORE: 0.1349165728324291\n",
      "SCORE: 0.13420002047292456\n",
      "SCORE: 0.1349165728324291\n",
      "SCORE: 0.12785341386016993\n",
      "SCORE: 0.12723922612345173\n",
      "SCORE: 0.12990070631589723\n",
      "The best params:  {'x_colsample_bytree': 0.9527966669828812, 'x_learning_rate': 0.18143258070321622, 'x_max_depth': 5.0, 'x_min_child_weight': 9.0, 'x_reg_alpha': 1.009865557984001, 'x_reg_lambda': 0.7394799229806378, 'x_seed': 100.0, 'x_subsample': 0.9558840589248941}\n"
     ]
    }
   ],
   "source": [
    "def objective(space):\n",
    "    \n",
    "    xgb_params = {\n",
    "        'max_depth': int(space['max_depth']),\n",
    "        'colsample_bytree': space['colsample_bytree'],\n",
    "        'learning_rate': space['learning_rate'],\n",
    "        'subsample': space['subsample'],\n",
    "        'seed': int(space['seed']),\n",
    "        'min_child_weight': int(space['min_child_weight']),\n",
    "        'reg_alpha': space['reg_alpha'],\n",
    "        'reg_lambda': space['reg_lambda'],\n",
    "        'n_estimators': 100\n",
    "    }\n",
    "    \n",
    "    model = xgb.XGBClassifier(**xgb_params)\n",
    "    model.fit(X_train, y_train)\n",
    "    y_pred = model.predict(X_test)\n",
    "    \n",
    "    score = mean_squared_error(y_test, y_pred)\n",
    "    \n",
    "    print(\"SCORE: {0}\".format(score))\n",
    "    \n",
    "    return{'loss':score, 'status': STATUS_OK }\n",
    "    \n",
    "space ={\n",
    "    'max_depth': hp.quniform ('x_max_depth', 5, 20, 1),\n",
    "    'colsample_bytree': hp.uniform ('x_colsample_bytree', 0.8, 1.),\n",
    "    'learning_rate': hp.uniform ('x_learning_rate', 0.05, 0.2),\n",
    "    'subsample': hp.uniform ('x_subsample', 0.7, 1.),\n",
    "    'seed': hp.quniform ('x_seed', 0, 10000, 50),\n",
    "    'min_child_weight': hp.quniform ('x_min_child_weight', 1, 10, 1),\n",
    "    'reg_alpha': hp.loguniform ('x_reg_alpha', 0., 1.),\n",
    "    'reg_lambda': hp.uniform ('x_reg_lambda', 0.7, 1.),\n",
    "}\n",
    "\n",
    "\n",
    "trials = Trials()\n",
    "best_params = fmin(fn=objective,\n",
    "            space=space,\n",
    "            algo=partial(tpe.suggest, n_startup_jobs=1),\n",
    "            max_evals=20,\n",
    "            trials=trials)\n",
    "\n",
    "print(\"The best params: \", best_params)"
   ]
  },
  {
   "cell_type": "code",
   "execution_count": 28,
   "metadata": {},
   "outputs": [
    {
     "data": {
      "text/plain": [
       "0.9090404527307987"
      ]
     },
     "execution_count": 28,
     "metadata": {},
     "output_type": "execute_result"
    }
   ],
   "source": [
    "from sklearn.metrics import accuracy_score\n",
    "\n",
    "best = {'colsample_bytree': 0.9527966669828812, 'learning_rate': 0.18143258070321622, 'max_depth': 5, 'min_child_weight': 9.0, 'reg_alpha': 1.009865557984001, 'reg_lambda': 0.7394799229806378, 'seed': 100, 'subsample': 0.9558840589248941}\n",
    "\n",
    "model = xgb.XGBRegressor(**best)\n",
    "model.fit(X_train, y_train)\n",
    "y_pred = model.predict(X_test)\n",
    "score =1-(mean_squared_error(y_test, y_pred))\n",
    "score\n",
    "    \n"
   ]
  },
  {
   "cell_type": "code",
   "execution_count": null,
   "metadata": {
    "collapsed": true
   },
   "outputs": [],
   "source": []
  }
 ],
 "metadata": {
  "kernelspec": {
   "display_name": "Python 3",
   "language": "python",
   "name": "python3"
  },
  "language_info": {
   "codemirror_mode": {
    "name": "ipython",
    "version": 3
   },
   "file_extension": ".py",
   "mimetype": "text/x-python",
   "name": "python",
   "nbconvert_exporter": "python",
   "pygments_lexer": "ipython3",
   "version": "3.6.0"
  }
 },
 "nbformat": 4,
 "nbformat_minor": 2
}
