{
 "cells": [
  {
   "cell_type": "code",
   "execution_count": null,
   "metadata": {
    "collapsed": false
   },
   "outputs": [],
   "source": [
    "import numpy as np\n",
    "np.random.seed(108)\n",
    "\n",
    "import keras\n",
    "from keras.datasets import mnist\n",
    "from keras.layers import Input, Conv2D, Dense, Flatten, MaxPool2D, Dropout, BatchNormalization, Activation\n",
    "from keras.models import Sequential, Model\n",
    "from keras.preprocessing.image import ImageDataGenerator\n",
    "from keras.optimizers import Adam\n",
    "from keras.layers.advanced_activations import PReLU\n",
    "from keras.callbacks import ModelCheckpoint, TensorBoard\n",
    "from keras.utils.vis_utils import model_to_dot\n",
    "from keras.utils import plot_model\n",
    "\n",
    "from math import sqrt\n",
    "\n",
    "from IPython.display import SVG\n",
    "\n",
    "import os\n",
    "import smtplib\n",
    "from email.mime.text import MIMEText\n",
    "\n",
    "import matplotlib.pyplot as plt\n",
    "%matplotlib inline"
   ]
  },
  {
   "cell_type": "code",
   "execution_count": null,
   "metadata": {
    "collapsed": true
   },
   "outputs": [],
   "source": [
    "def data():\n",
    "\n",
    "    (X_train, y_train), (X_test, y_test) = mnist.load_data()\n",
    "    \n",
    "    X_train = X_train.astype('float32')\n",
    "    X_test = X_test.astype('float32')\n",
    "    \n",
    "    X_train = (X_train - 255/2.0) / 255\n",
    "    X_test = (X_test - 255/2.0) / 255\n",
    "\n",
    "    X_train = X_train.reshape(60000, 28, 28, 1)\n",
    "    X_test = X_test.reshape(10000, 28, 28, 1)\n",
    "    \n",
    "    y_train = keras.utils.to_categorical(y_train)\n",
    "    y_test = keras.utils.to_categorical(y_test)\n",
    "    \n",
    "    return X_train, y_train, X_test, y_test"
   ]
  },
  {
   "cell_type": "code",
   "execution_count": null,
   "metadata": {
    "collapsed": true
   },
   "outputs": [],
   "source": [
    "def create_model(X_train, y_train, X_test, y_test):\n",
    "\n",
    "    datagen = ImageDataGenerator(rotation_range=15,\n",
    "                                 width_shift_range=2.0/28,\n",
    "                                 height_shift_range=2.0/28\n",
    "                                )\n",
    "    \n",
    "    epochs = 10 \n",
    "    lr = (1.234e-3)\n",
    "    optimizer = Adam(lr=lr)\n",
    "    \n",
    "    main_input = Input(shape= (28,28,1), name='main_input')\n",
    "    \n",
    "    sub_models = []\n",
    "    \n",
    "    for i in range(5):\n",
    "\n",
    "        x = Conv2D(32, kernel_size=(3,3), strides=1)(main_input)\n",
    "        x = BatchNormalization()(x)\n",
    "        x = Activation('relu')(x)\n",
    "        x = MaxPool2D(pool_size=2)(x)\n",
    "\n",
    "        x = Conv2D(64, kernel_size=(3,3), strides=1)(x)\n",
    "        x = BatchNormalization()(x)\n",
    "        x = Activation('relu')(x)\n",
    "        x = MaxPool2D(pool_size=2)(x)\n",
    "\n",
    "        x = Conv2D(64, kernel_size=(3,3), strides=1)(x)\n",
    "        x = BatchNormalization()(x)\n",
    "        x = Activation('relu')(x)\n",
    "\n",
    "        x = Flatten()(x)\n",
    "\n",
    "        x = Dense(1024)(x)\n",
    "        x = BatchNormalization()(x)\n",
    "        x = Activation('relu')(x)\n",
    "        x = Dropout(0.1)(x)\n",
    "\n",
    "        x = Dense(256)(x)\n",
    "        x = BatchNormalization()(x)\n",
    "        x = Activation('relu')(x)\n",
    "        x = Dropout(0.4)(x)\n",
    "        \n",
    "        x = Dense(10, activation='softmax')(x)\n",
    "        \n",
    "        sub_models.append(x)\n",
    "    \n",
    "    x = keras.layers.average(sub_models)\n",
    "    \n",
    "    main_output = keras.layers.average(sub_models)\n",
    "    \n",
    "    model = Model(inputs=[main_input], outputs=[main_output])\n",
    "    \n",
    "    model.compile(loss='categorical_crossentropy', metrics=['accuracy'],\n",
    "                  optimizer=optimizer)\n",
    "    \n",
    "    print(model.summary())\n",
    "        \n",
    "    filepath=\"weights.best.hdf5\"\n",
    "    checkpoint = ModelCheckpoint(filepath, monitor='val_acc', verbose=1, save_best_only=True, mode='max')\n",
    "    tensorboard = TensorBoard(log_dir='./Graph', histogram_freq=0, write_graph=True, write_images=True)\n",
    "    callbacks = [checkpoint, tensorboard]\n",
    "\n",
    "    model.fit_generator(datagen.flow(X_train, y_train, batch_size=128),\n",
    "                        steps_per_epoch=len(X_train) / 128,\n",
    "                        epochs=epochs,\n",
    "                        callbacks=callbacks,\n",
    "                        verbose=1,\n",
    "                        validation_data=(X_test, y_test))\n",
    "    \n",
    "    print('Test accuracy:', acc)\n",
    "    return model"
   ]
  },
  {
   "cell_type": "code",
   "execution_count": null,
   "metadata": {
    "collapsed": false
   },
   "outputs": [],
   "source": [
    "X_train, y_train, X_test, y_test = data()\n",
    "model = create_model(X_train, y_train, X_test, y_test)"
   ]
  },
  {
   "cell_type": "code",
   "execution_count": null,
   "metadata": {
    "collapsed": true
   },
   "outputs": [],
   "source": [
    "from keras.models import load_model\n",
    "model = load_model(\"weights.best.hdf5\")\n",
    "score, acc = model.evaluate(X_test, y_test, verbose=0)\n",
    "print(score, acc)"
   ]
  }
 ],
 "metadata": {
  "kernelspec": {
   "display_name": "Python 3",
   "language": "python",
   "name": "python3"
  },
  "language_info": {
   "codemirror_mode": {
    "name": "ipython",
    "version": 3
   },
   "file_extension": ".py",
   "mimetype": "text/x-python",
   "name": "python",
   "nbconvert_exporter": "python",
   "pygments_lexer": "ipython3",
   "version": "3.6.0"
  }
 },
 "nbformat": 4,
 "nbformat_minor": 2
}
